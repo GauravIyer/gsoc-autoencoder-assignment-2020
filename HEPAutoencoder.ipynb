{
  "nbformat": 4,
  "nbformat_minor": 0,
  "metadata": {
    "colab": {
      "name": "HEPAutoencoder",
      "provenance": [],
      "collapsed_sections": []
    },
    "kernelspec": {
      "name": "python3",
      "display_name": "Python 3"
    },
    "accelerator": "GPU"
  },
  "cells": [
    {
      "cell_type": "markdown",
      "metadata": {
        "id": "Ul3DSLPl_zHh",
        "colab_type": "text"
      },
      "source": [
        "This work was done on Google Colaboratory.\n",
        "\n",
        "# Boilerplate Code and Preprocessing\n"
      ]
    },
    {
      "cell_type": "markdown",
      "metadata": {
        "id": "vr6cGRiMAXDj",
        "colab_type": "text"
      },
      "source": [
        "Importing some libraries and packages to make our work easier: "
      ]
    },
    {
      "cell_type": "code",
      "metadata": {
        "id": "hs3-HL-8GvfV",
        "colab_type": "code",
        "colab": {}
      },
      "source": [
        "from google.colab import files\n",
        "import numpy as np\n",
        "import torch\n",
        "import torch.optim as optim\n",
        "import torch.utils as utils\n",
        "import matplotlib.pyplot as plt\n",
        "import torch.nn as nn\n",
        "import pandas as pd\n",
        "%matplotlib inline"
      ],
      "execution_count": 0,
      "outputs": []
    },
    {
      "cell_type": "markdown",
      "metadata": {
        "id": "hKEAs_6IAd0k",
        "colab_type": "text"
      },
      "source": [
        "Checking if GPU is available. GPUs enable us to make our computations significantly faster."
      ]
    },
    {
      "cell_type": "code",
      "metadata": {
        "id": "rT6-rg2LydAX",
        "colab_type": "code",
        "outputId": "63e0352f-a1a4-4aa6-c183-423025dbb6d5",
        "colab": {
          "base_uri": "https://localhost:8080/",
          "height": 34
        }
      },
      "source": [
        "device=torch.device(\"cuda:0\" if (torch.cuda.is_available()) else \"cpu\")\n",
        "device"
      ],
      "execution_count": 2,
      "outputs": [
        {
          "output_type": "execute_result",
          "data": {
            "text/plain": [
              "device(type='cuda', index=0)"
            ]
          },
          "metadata": {
            "tags": []
          },
          "execution_count": 2
        }
      ]
    },
    {
      "cell_type": "markdown",
      "metadata": {
        "id": "cu9vzYEAA9kS",
        "colab_type": "text"
      },
      "source": [
        "Getting datasets from the Google Drive link."
      ]
    },
    {
      "cell_type": "code",
      "metadata": {
        "id": "Ietm77PNG8gk",
        "colab_type": "code",
        "outputId": "df72ea16-f5b9-40da-aa8c-33e28699494b",
        "colab": {
          "base_uri": "https://localhost:8080/",
          "height": 153
        }
      },
      "source": [
        "!gdown https://drive.google.com/uc?id=1-mujHxt2HEdmo6C4wAWW5k88d3YEV9XN\n",
        "!gdown https://drive.google.com/uc?id=1mhweZvAIELxWq522Q8QhSGDzkXzy_Wxq"
      ],
      "execution_count": 3,
      "outputs": [
        {
          "output_type": "stream",
          "text": [
            "Downloading...\n",
            "From: https://drive.google.com/uc?id=1-mujHxt2HEdmo6C4wAWW5k88d3YEV9XN\n",
            "To: /content/all_jets_train_4D_100_percent.pkl\n",
            "4.47MB [00:00, 39.3MB/s]\n",
            "Downloading...\n",
            "From: https://drive.google.com/uc?id=1mhweZvAIELxWq522Q8QhSGDzkXzy_Wxq\n",
            "To: /content/all_jets_test_4D_100_percent.pkl\n",
            "100% 1.12M/1.12M [00:00<00:00, 73.9MB/s]\n"
          ],
          "name": "stdout"
        }
      ]
    },
    {
      "cell_type": "markdown",
      "metadata": {
        "id": "socY9YN1BDPa",
        "colab_type": "text"
      },
      "source": [
        "Reading files into Pandas dataframes. Pandas dataframes give us a glimpse into how our data is structured and \"looks\"."
      ]
    },
    {
      "cell_type": "code",
      "metadata": {
        "id": "LNJYZeHFHEaX",
        "colab_type": "code",
        "colab": {}
      },
      "source": [
        "train=pd.read_pickle(\"/content/all_jets_train_4D_100_percent.pkl\")\n",
        "test=pd.read_pickle(\"/content/all_jets_test_4D_100_percent.pkl\")"
      ],
      "execution_count": 0,
      "outputs": []
    },
    {
      "cell_type": "markdown",
      "metadata": {
        "id": "Q2s7bIEbBlti",
        "colab_type": "text"
      },
      "source": [
        "Training set dataframe:"
      ]
    },
    {
      "cell_type": "code",
      "metadata": {
        "id": "88D2-f6nBftp",
        "colab_type": "code",
        "outputId": "d99ff202-2feb-4ae9-9c0d-8448c9ef162e",
        "colab": {
          "base_uri": "https://localhost:8080/",
          "height": 204
        }
      },
      "source": [
        "train.head(5)"
      ],
      "execution_count": 5,
      "outputs": [
        {
          "output_type": "execute_result",
          "data": {
            "text/html": [
              "<div>\n",
              "<style scoped>\n",
              "    .dataframe tbody tr th:only-of-type {\n",
              "        vertical-align: middle;\n",
              "    }\n",
              "\n",
              "    .dataframe tbody tr th {\n",
              "        vertical-align: top;\n",
              "    }\n",
              "\n",
              "    .dataframe thead th {\n",
              "        text-align: right;\n",
              "    }\n",
              "</style>\n",
              "<table border=\"1\" class=\"dataframe\">\n",
              "  <thead>\n",
              "    <tr style=\"text-align: right;\">\n",
              "      <th></th>\n",
              "      <th>m</th>\n",
              "      <th>pt</th>\n",
              "      <th>phi</th>\n",
              "      <th>eta</th>\n",
              "    </tr>\n",
              "  </thead>\n",
              "  <tbody>\n",
              "    <tr>\n",
              "      <th>132784</th>\n",
              "      <td>3831.839355</td>\n",
              "      <td>22000.609375</td>\n",
              "      <td>1.567018</td>\n",
              "      <td>1.142924</td>\n",
              "    </tr>\n",
              "    <tr>\n",
              "      <th>99666</th>\n",
              "      <td>4582.417480</td>\n",
              "      <td>21648.210938</td>\n",
              "      <td>-2.680558</td>\n",
              "      <td>0.213654</td>\n",
              "    </tr>\n",
              "    <tr>\n",
              "      <th>26629</th>\n",
              "      <td>16747.765625</td>\n",
              "      <td>169514.281250</td>\n",
              "      <td>-1.948239</td>\n",
              "      <td>1.163296</td>\n",
              "    </tr>\n",
              "    <tr>\n",
              "      <th>80473</th>\n",
              "      <td>14789.586914</td>\n",
              "      <td>183085.609375</td>\n",
              "      <td>-1.641102</td>\n",
              "      <td>2.670927</td>\n",
              "    </tr>\n",
              "    <tr>\n",
              "      <th>48229</th>\n",
              "      <td>4646.724121</td>\n",
              "      <td>20527.130859</td>\n",
              "      <td>2.922270</td>\n",
              "      <td>-1.158871</td>\n",
              "    </tr>\n",
              "  </tbody>\n",
              "</table>\n",
              "</div>"
            ],
            "text/plain": [
              "                   m             pt       phi       eta\n",
              "132784   3831.839355   22000.609375  1.567018  1.142924\n",
              "99666    4582.417480   21648.210938 -2.680558  0.213654\n",
              "26629   16747.765625  169514.281250 -1.948239  1.163296\n",
              "80473   14789.586914  183085.609375 -1.641102  2.670927\n",
              "48229    4646.724121   20527.130859  2.922270 -1.158871"
            ]
          },
          "metadata": {
            "tags": []
          },
          "execution_count": 5
        }
      ]
    },
    {
      "cell_type": "markdown",
      "metadata": {
        "id": "ypCsh-P_BppJ",
        "colab_type": "text"
      },
      "source": [
        "Test set dataframe:"
      ]
    },
    {
      "cell_type": "code",
      "metadata": {
        "id": "I-192Gs8IE4Y",
        "colab_type": "code",
        "outputId": "c8a461ed-2d5c-4730-e5b0-3abd2e1ec3a6",
        "colab": {
          "base_uri": "https://localhost:8080/",
          "height": 204
        }
      },
      "source": [
        "test.head(5)"
      ],
      "execution_count": 6,
      "outputs": [
        {
          "output_type": "execute_result",
          "data": {
            "text/html": [
              "<div>\n",
              "<style scoped>\n",
              "    .dataframe tbody tr th:only-of-type {\n",
              "        vertical-align: middle;\n",
              "    }\n",
              "\n",
              "    .dataframe tbody tr th {\n",
              "        vertical-align: top;\n",
              "    }\n",
              "\n",
              "    .dataframe thead th {\n",
              "        text-align: right;\n",
              "    }\n",
              "</style>\n",
              "<table border=\"1\" class=\"dataframe\">\n",
              "  <thead>\n",
              "    <tr style=\"text-align: right;\">\n",
              "      <th></th>\n",
              "      <th>m</th>\n",
              "      <th>pt</th>\n",
              "      <th>phi</th>\n",
              "      <th>eta</th>\n",
              "    </tr>\n",
              "  </thead>\n",
              "  <tbody>\n",
              "    <tr>\n",
              "      <th>85972</th>\n",
              "      <td>4983.729980</td>\n",
              "      <td>23798.070312</td>\n",
              "      <td>1.962157</td>\n",
              "      <td>-0.059532</td>\n",
              "    </tr>\n",
              "    <tr>\n",
              "      <th>38742</th>\n",
              "      <td>5435.273438</td>\n",
              "      <td>21881.867188</td>\n",
              "      <td>1.035412</td>\n",
              "      <td>0.734343</td>\n",
              "    </tr>\n",
              "    <tr>\n",
              "      <th>128711</th>\n",
              "      <td>5239.408691</td>\n",
              "      <td>24608.134766</td>\n",
              "      <td>-1.121055</td>\n",
              "      <td>0.828848</td>\n",
              "    </tr>\n",
              "    <tr>\n",
              "      <th>28751</th>\n",
              "      <td>14121.240234</td>\n",
              "      <td>203110.953125</td>\n",
              "      <td>0.324205</td>\n",
              "      <td>-2.571108</td>\n",
              "    </tr>\n",
              "    <tr>\n",
              "      <th>131358</th>\n",
              "      <td>3344.826660</td>\n",
              "      <td>24897.294922</td>\n",
              "      <td>0.395331</td>\n",
              "      <td>1.440069</td>\n",
              "    </tr>\n",
              "  </tbody>\n",
              "</table>\n",
              "</div>"
            ],
            "text/plain": [
              "                   m             pt       phi       eta\n",
              "85972    4983.729980   23798.070312  1.962157 -0.059532\n",
              "38742    5435.273438   21881.867188  1.035412  0.734343\n",
              "128711   5239.408691   24608.134766 -1.121055  0.828848\n",
              "28751   14121.240234  203110.953125  0.324205 -2.571108\n",
              "131358   3344.826660   24897.294922  0.395331  1.440069"
            ]
          },
          "metadata": {
            "tags": []
          },
          "execution_count": 6
        }
      ]
    },
    {
      "cell_type": "markdown",
      "metadata": {
        "id": "UYn0iNnRB9dv",
        "colab_type": "text"
      },
      "source": [
        "Calculating a few statistics and using them to standardise the data. This centers our data to mean 0 and variance 1."
      ]
    },
    {
      "cell_type": "code",
      "metadata": {
        "id": "kJSwsgFkIbHw",
        "colab_type": "code",
        "colab": {}
      },
      "source": [
        "average=train.mean(axis=0) #calculates mean for each variable/feature\n",
        "deviation=train.std(axis=0) #calculates the standard deviation for each variable/features\n",
        "train=(train-average)/deviation #standardising the training data\n",
        "test=(test-average)/deviation #standardising the test data"
      ],
      "execution_count": 0,
      "outputs": []
    },
    {
      "cell_type": "markdown",
      "metadata": {
        "id": "acdcWTnIGEoX",
        "colab_type": "text"
      },
      "source": [
        "Converting our raw data into DataLoader ojects for ease of training and testing:"
      ]
    },
    {
      "cell_type": "code",
      "metadata": {
        "id": "VC9KU8KGdGXn",
        "colab_type": "code",
        "colab": {}
      },
      "source": [
        "tensor_trainset=utils.data.TensorDataset(torch.tensor(train.values),torch.tensor(train.values))\n",
        "tensor_testset=utils.data.TensorDataset(torch.tensor(test.values),torch.tensor(test.values))\n",
        "batch_size=64\n",
        "trainloader=utils.data.DataLoader(tensor_trainset,batch_size=batch_size,shuffle=True)\n",
        "testloader=utils.data.DataLoader(tensor_testset,batch_size=batch_size,shuffle=False)"
      ],
      "execution_count": 0,
      "outputs": []
    },
    {
      "cell_type": "markdown",
      "metadata": {
        "id": "-nD6-UtfGRff",
        "colab_type": "text"
      },
      "source": [
        "# Defining our Neural Network Architecture"
      ]
    },
    {
      "cell_type": "markdown",
      "metadata": {
        "id": "6XDxpFVNH-4p",
        "colab_type": "text"
      },
      "source": [
        "The goal of an autoencoder is to \"encode\" higher dimensional data into lower dimensional data. An autoencoder consists of two parts: An encoder and a decoder. \n",
        "In the case of our task, the encoder encodes our 4 dimensional data to a 3 dimensional representation. The decoder tries to reconstruct our original 4 dimensional data from the original 3 dimensional data.\n",
        "This allows us to compare our reconstruction to the original data, and hence improve our encoding, in a sense."
      ]
    },
    {
      "cell_type": "markdown",
      "metadata": {
        "id": "cqddb4tcKAPW",
        "colab_type": "text"
      },
      "source": [
        "Our encoder:"
      ]
    },
    {
      "cell_type": "code",
      "metadata": {
        "id": "jDfKijYlda7f",
        "colab_type": "code",
        "colab": {}
      },
      "source": [
        "class Encoder(nn.Module):\n",
        "  def __init__(self):\n",
        "    super(Encoder,self).__init__()\n",
        "    self.layers=nn.Sequential(\n",
        "      nn.Linear(4,256,bias=True),\n",
        "      #nn.BatchNorm1d(256),             #uncomment to enable batchnorm for the network in the encoder and decoder\n",
        "      nn.LeakyReLU(inplace=True),\n",
        "      nn.Linear(256,128,bias=True),\n",
        "      #nn.BatchNorm1d(128),\n",
        "      nn.LeakyReLU(inplace=True),\n",
        "      nn.Linear(128,64,bias=True),\n",
        "      #nn.BatchNorm1d(64),\n",
        "      nn.LeakyReLU(inplace=True),\n",
        "      nn.Linear(64,3,bias=True),\n",
        "    )\n",
        "  def forward(self,x):\n",
        "    enc=self.layers(x)\n",
        "    return enc\n"
      ],
      "execution_count": 0,
      "outputs": []
    },
    {
      "cell_type": "markdown",
      "metadata": {
        "id": "vaC93ESSKE69",
        "colab_type": "text"
      },
      "source": [
        "Our decoder:"
      ]
    },
    {
      "cell_type": "code",
      "metadata": {
        "id": "6hjQplI9tEJT",
        "colab_type": "code",
        "colab": {}
      },
      "source": [
        "class Decoder(nn.Module):\n",
        "  def __init__(self):\n",
        "    super(Decoder,self).__init__()\n",
        "    self.layers=nn.Sequential(\n",
        "        nn.Linear(3,64,bias=True),\n",
        "        #nn.BatchNorm1d(64),\n",
        "        nn.LeakyReLU(inplace=True),\n",
        "        nn.Linear(64,128,bias=True),\n",
        "        #nn.BatchNorm1d(128),\n",
        "        nn.LeakyReLU(inplace=True),\n",
        "        nn.Linear(128,256,bias=True),\n",
        "        #nn.BatchNorm1d(256),\n",
        "        nn.LeakyReLU(inplace=True),\n",
        "        nn.Linear(256,4,bias=True)\n",
        "    )\n",
        "  def forward(self,enc):\n",
        "    dec=self.layers(enc)\n",
        "    return dec"
      ],
      "execution_count": 0,
      "outputs": []
    },
    {
      "cell_type": "markdown",
      "metadata": {
        "id": "pUW5gtCoKHPQ",
        "colab_type": "text"
      },
      "source": [
        "Combining the encoder and decoder into a single network:"
      ]
    },
    {
      "cell_type": "code",
      "metadata": {
        "id": "iiOqhPM1V-3l",
        "colab_type": "code",
        "colab": {}
      },
      "source": [
        "class Net(nn.Module):\n",
        "  def __init__(self):\n",
        "    super(Net,self).__init__()\n",
        "    self.encoder=Encoder()\n",
        "    self.decoder=Decoder()\n",
        "    \n",
        "  def encode(self,x):\n",
        "    return self.encoder(x)\n",
        "  def decode(self,z):\n",
        "    return self.decoder(z)\n",
        "  def forward(self,x):\n",
        "    enc=self.encode(x)\n",
        "    dec=self.decode(enc)\n",
        "    return dec\n"
      ],
      "execution_count": 0,
      "outputs": []
    },
    {
      "cell_type": "markdown",
      "metadata": {
        "id": "A6bkLop2KPzw",
        "colab_type": "text"
      },
      "source": [
        "# Creating our Network and Training"
      ]
    },
    {
      "cell_type": "markdown",
      "metadata": {
        "id": "9I5TBPiAKVSI",
        "colab_type": "text"
      },
      "source": [
        "Creating a neural net, and initialising various hyperparameters:"
      ]
    },
    {
      "cell_type": "code",
      "metadata": {
        "id": "lhJexrJybn0L",
        "colab_type": "code",
        "colab": {}
      },
      "source": [
        "model=Net() #compiling, and creating an instance of our neural net\n",
        "model=model.to(device)\n",
        "model=model.float()\n",
        "lr=1e-3 #assigning our learning rate\n",
        "loss_fn=nn.MSELoss() #defining what loss function we'll be using\n",
        "optimizer=torch.optim.Adam(model.parameters(),lr=lr) #efining our weight update rule\n",
        "num_epochs=100 #number of epochs/iterations over our complete dataset\n",
        "scheduler=optim.lr_scheduler.MultiStepLR(optimizer,milestones=[50,80],gamma=0.1) #learning rate scheduler to modify our learning rate during training"
      ],
      "execution_count": 0,
      "outputs": []
    },
    {
      "cell_type": "markdown",
      "metadata": {
        "id": "HlphdMH2L6nV",
        "colab_type": "text"
      },
      "source": [
        "Training loop:"
      ]
    },
    {
      "cell_type": "code",
      "metadata": {
        "id": "djZRKrzUn6po",
        "colab_type": "code",
        "outputId": "ddedbe85-c2a9-467f-e2ca-7c942854945e",
        "colab": {
          "base_uri": "https://localhost:8080/",
          "height": 1000
        }
      },
      "source": [
        "model.train() #Set model to training mode\n",
        "\n",
        "losses=[]\n",
        "for epoch in range(1,num_epochs+1):\n",
        "  total_loss=0\n",
        "  for i,data in enumerate(trainloader,0):\n",
        "    x,target=data\n",
        "    x=x.to(device)\n",
        "    x=x.float()\n",
        "    target=target.to(device)\n",
        "    target=target.float()\n",
        "    recon=model(x)\n",
        "    loss=loss_fn(recon,target)\n",
        "    total_loss+=loss.item()\n",
        "    optimizer.zero_grad()\n",
        "    loss.backward()\n",
        "    optimizer.step()\n",
        "    scheduler.step()\n",
        "    if i%500==0:\n",
        "      print('[%d/%d][%d/%d]\\tmse_loss: %.5f'\n",
        "      %(epoch,num_epochs,i,len(trainloader),loss.item()))\n",
        "  losses.append(total_loss/len(trainloader))"
      ],
      "execution_count": 13,
      "outputs": [
        {
          "output_type": "stream",
          "text": [
            "[1/100][0/1747]\tmse_loss: 0.84241\n",
            "[1/100][500/1747]\tmse_loss: 0.02275\n",
            "[1/100][1000/1747]\tmse_loss: 0.03352\n",
            "[1/100][1500/1747]\tmse_loss: 0.02464\n",
            "[2/100][0/1747]\tmse_loss: 0.04708\n",
            "[2/100][500/1747]\tmse_loss: 0.01159\n",
            "[2/100][1000/1747]\tmse_loss: 0.04860\n",
            "[2/100][1500/1747]\tmse_loss: 0.02020\n",
            "[3/100][0/1747]\tmse_loss: 0.05587\n",
            "[3/100][500/1747]\tmse_loss: 0.04527\n",
            "[3/100][1000/1747]\tmse_loss: 0.03609\n",
            "[3/100][1500/1747]\tmse_loss: 0.05715\n",
            "[4/100][0/1747]\tmse_loss: 0.02274\n",
            "[4/100][500/1747]\tmse_loss: 0.01238\n",
            "[4/100][1000/1747]\tmse_loss: 0.03687\n",
            "[4/100][1500/1747]\tmse_loss: 0.03565\n",
            "[5/100][0/1747]\tmse_loss: 0.01754\n",
            "[5/100][500/1747]\tmse_loss: 0.04680\n",
            "[5/100][1000/1747]\tmse_loss: 0.01210\n",
            "[5/100][1500/1747]\tmse_loss: 0.04961\n",
            "[6/100][0/1747]\tmse_loss: 0.01693\n",
            "[6/100][500/1747]\tmse_loss: 0.03544\n",
            "[6/100][1000/1747]\tmse_loss: 0.01632\n",
            "[6/100][1500/1747]\tmse_loss: 0.02001\n",
            "[7/100][0/1747]\tmse_loss: 0.01293\n",
            "[7/100][500/1747]\tmse_loss: 0.01493\n",
            "[7/100][1000/1747]\tmse_loss: 0.02823\n",
            "[7/100][1500/1747]\tmse_loss: 0.02084\n",
            "[8/100][0/1747]\tmse_loss: 0.01007\n",
            "[8/100][500/1747]\tmse_loss: 0.01486\n",
            "[8/100][1000/1747]\tmse_loss: 0.03088\n",
            "[8/100][1500/1747]\tmse_loss: 0.03665\n",
            "[9/100][0/1747]\tmse_loss: 0.06364\n",
            "[9/100][500/1747]\tmse_loss: 0.02318\n",
            "[9/100][1000/1747]\tmse_loss: 0.01455\n",
            "[9/100][1500/1747]\tmse_loss: 0.02455\n",
            "[10/100][0/1747]\tmse_loss: 0.00861\n",
            "[10/100][500/1747]\tmse_loss: 0.02891\n",
            "[10/100][1000/1747]\tmse_loss: 0.05999\n",
            "[10/100][1500/1747]\tmse_loss: 0.03803\n",
            "[11/100][0/1747]\tmse_loss: 0.01706\n",
            "[11/100][500/1747]\tmse_loss: 0.02333\n",
            "[11/100][1000/1747]\tmse_loss: 0.04848\n",
            "[11/100][1500/1747]\tmse_loss: 0.05189\n",
            "[12/100][0/1747]\tmse_loss: 0.02034\n",
            "[12/100][500/1747]\tmse_loss: 0.02513\n",
            "[12/100][1000/1747]\tmse_loss: 0.01612\n",
            "[12/100][1500/1747]\tmse_loss: 0.02251\n",
            "[13/100][0/1747]\tmse_loss: 0.01071\n",
            "[13/100][500/1747]\tmse_loss: 0.02647\n",
            "[13/100][1000/1747]\tmse_loss: 0.02930\n",
            "[13/100][1500/1747]\tmse_loss: 0.03699\n",
            "[14/100][0/1747]\tmse_loss: 0.03670\n",
            "[14/100][500/1747]\tmse_loss: 0.00766\n",
            "[14/100][1000/1747]\tmse_loss: 0.03139\n",
            "[14/100][1500/1747]\tmse_loss: 0.03183\n",
            "[15/100][0/1747]\tmse_loss: 0.02498\n",
            "[15/100][500/1747]\tmse_loss: 0.02946\n",
            "[15/100][1000/1747]\tmse_loss: 0.04082\n",
            "[15/100][1500/1747]\tmse_loss: 0.02360\n",
            "[16/100][0/1747]\tmse_loss: 0.02242\n",
            "[16/100][500/1747]\tmse_loss: 0.01336\n",
            "[16/100][1000/1747]\tmse_loss: 0.01391\n",
            "[16/100][1500/1747]\tmse_loss: 0.02543\n",
            "[17/100][0/1747]\tmse_loss: 0.01221\n",
            "[17/100][500/1747]\tmse_loss: 0.01922\n",
            "[17/100][1000/1747]\tmse_loss: 0.02647\n",
            "[17/100][1500/1747]\tmse_loss: 0.01262\n",
            "[18/100][0/1747]\tmse_loss: 0.01576\n",
            "[18/100][500/1747]\tmse_loss: 0.02975\n",
            "[18/100][1000/1747]\tmse_loss: 0.01421\n",
            "[18/100][1500/1747]\tmse_loss: 0.04295\n",
            "[19/100][0/1747]\tmse_loss: 0.01832\n",
            "[19/100][500/1747]\tmse_loss: 0.01995\n",
            "[19/100][1000/1747]\tmse_loss: 0.02461\n",
            "[19/100][1500/1747]\tmse_loss: 0.02725\n",
            "[20/100][0/1747]\tmse_loss: 0.02079\n",
            "[20/100][500/1747]\tmse_loss: 0.02973\n",
            "[20/100][1000/1747]\tmse_loss: 0.01573\n",
            "[20/100][1500/1747]\tmse_loss: 0.02637\n",
            "[21/100][0/1747]\tmse_loss: 0.00860\n",
            "[21/100][500/1747]\tmse_loss: 0.02102\n",
            "[21/100][1000/1747]\tmse_loss: 0.01492\n",
            "[21/100][1500/1747]\tmse_loss: 0.01166\n",
            "[22/100][0/1747]\tmse_loss: 0.01116\n",
            "[22/100][500/1747]\tmse_loss: 0.02717\n",
            "[22/100][1000/1747]\tmse_loss: 0.00856\n",
            "[22/100][1500/1747]\tmse_loss: 0.02416\n",
            "[23/100][0/1747]\tmse_loss: 0.02563\n",
            "[23/100][500/1747]\tmse_loss: 0.01922\n",
            "[23/100][1000/1747]\tmse_loss: 0.02343\n",
            "[23/100][1500/1747]\tmse_loss: 0.01299\n",
            "[24/100][0/1747]\tmse_loss: 0.01353\n",
            "[24/100][500/1747]\tmse_loss: 0.02174\n",
            "[24/100][1000/1747]\tmse_loss: 0.01183\n",
            "[24/100][1500/1747]\tmse_loss: 0.01358\n",
            "[25/100][0/1747]\tmse_loss: 0.01511\n",
            "[25/100][500/1747]\tmse_loss: 0.04186\n",
            "[25/100][1000/1747]\tmse_loss: 0.01746\n",
            "[25/100][1500/1747]\tmse_loss: 0.01768\n",
            "[26/100][0/1747]\tmse_loss: 0.01696\n",
            "[26/100][500/1747]\tmse_loss: 0.01775\n",
            "[26/100][1000/1747]\tmse_loss: 0.01165\n",
            "[26/100][1500/1747]\tmse_loss: 0.01704\n",
            "[27/100][0/1747]\tmse_loss: 0.01930\n",
            "[27/100][500/1747]\tmse_loss: 0.01871\n",
            "[27/100][1000/1747]\tmse_loss: 0.03940\n",
            "[27/100][1500/1747]\tmse_loss: 0.01873\n",
            "[28/100][0/1747]\tmse_loss: 0.02195\n",
            "[28/100][500/1747]\tmse_loss: 0.01533\n",
            "[28/100][1000/1747]\tmse_loss: 0.01410\n",
            "[28/100][1500/1747]\tmse_loss: 0.01470\n",
            "[29/100][0/1747]\tmse_loss: 0.01250\n",
            "[29/100][500/1747]\tmse_loss: 0.01844\n",
            "[29/100][1000/1747]\tmse_loss: 0.01085\n",
            "[29/100][1500/1747]\tmse_loss: 0.01153\n",
            "[30/100][0/1747]\tmse_loss: 0.02884\n",
            "[30/100][500/1747]\tmse_loss: 0.03578\n",
            "[30/100][1000/1747]\tmse_loss: 0.02116\n",
            "[30/100][1500/1747]\tmse_loss: 0.01613\n",
            "[31/100][0/1747]\tmse_loss: 0.01315\n",
            "[31/100][500/1747]\tmse_loss: 0.01368\n",
            "[31/100][1000/1747]\tmse_loss: 0.01559\n",
            "[31/100][1500/1747]\tmse_loss: 0.01398\n",
            "[32/100][0/1747]\tmse_loss: 0.02711\n",
            "[32/100][500/1747]\tmse_loss: 0.02875\n",
            "[32/100][1000/1747]\tmse_loss: 0.01295\n",
            "[32/100][1500/1747]\tmse_loss: 0.01828\n",
            "[33/100][0/1747]\tmse_loss: 0.02163\n",
            "[33/100][500/1747]\tmse_loss: 0.01055\n",
            "[33/100][1000/1747]\tmse_loss: 0.04204\n",
            "[33/100][1500/1747]\tmse_loss: 0.01821\n",
            "[34/100][0/1747]\tmse_loss: 0.01830\n",
            "[34/100][500/1747]\tmse_loss: 0.01874\n",
            "[34/100][1000/1747]\tmse_loss: 0.01913\n",
            "[34/100][1500/1747]\tmse_loss: 0.01620\n",
            "[35/100][0/1747]\tmse_loss: 0.01632\n",
            "[35/100][500/1747]\tmse_loss: 0.03540\n",
            "[35/100][1000/1747]\tmse_loss: 0.01556\n",
            "[35/100][1500/1747]\tmse_loss: 0.01355\n",
            "[36/100][0/1747]\tmse_loss: 0.01669\n",
            "[36/100][500/1747]\tmse_loss: 0.01248\n",
            "[36/100][1000/1747]\tmse_loss: 0.01957\n",
            "[36/100][1500/1747]\tmse_loss: 0.01529\n",
            "[37/100][0/1747]\tmse_loss: 0.01441\n",
            "[37/100][500/1747]\tmse_loss: 0.02710\n",
            "[37/100][1000/1747]\tmse_loss: 0.01205\n",
            "[37/100][1500/1747]\tmse_loss: 0.03210\n",
            "[38/100][0/1747]\tmse_loss: 0.01397\n",
            "[38/100][500/1747]\tmse_loss: 0.01717\n",
            "[38/100][1000/1747]\tmse_loss: 0.02241\n",
            "[38/100][1500/1747]\tmse_loss: 0.01893\n",
            "[39/100][0/1747]\tmse_loss: 0.01375\n",
            "[39/100][500/1747]\tmse_loss: 0.01136\n",
            "[39/100][1000/1747]\tmse_loss: 0.02871\n",
            "[39/100][1500/1747]\tmse_loss: 0.01156\n",
            "[40/100][0/1747]\tmse_loss: 0.01300\n",
            "[40/100][500/1747]\tmse_loss: 0.01520\n",
            "[40/100][1000/1747]\tmse_loss: 0.01877\n",
            "[40/100][1500/1747]\tmse_loss: 0.01777\n",
            "[41/100][0/1747]\tmse_loss: 0.00859\n",
            "[41/100][500/1747]\tmse_loss: 0.01263\n",
            "[41/100][1000/1747]\tmse_loss: 0.01557\n",
            "[41/100][1500/1747]\tmse_loss: 0.01394\n",
            "[42/100][0/1747]\tmse_loss: 0.02074\n",
            "[42/100][500/1747]\tmse_loss: 0.01914\n",
            "[42/100][1000/1747]\tmse_loss: 0.01486\n",
            "[42/100][1500/1747]\tmse_loss: 0.01099\n",
            "[43/100][0/1747]\tmse_loss: 0.00701\n",
            "[43/100][500/1747]\tmse_loss: 0.02017\n",
            "[43/100][1000/1747]\tmse_loss: 0.00791\n",
            "[43/100][1500/1747]\tmse_loss: 0.02418\n",
            "[44/100][0/1747]\tmse_loss: 0.01240\n",
            "[44/100][500/1747]\tmse_loss: 0.01172\n",
            "[44/100][1000/1747]\tmse_loss: 0.02149\n",
            "[44/100][1500/1747]\tmse_loss: 0.01005\n",
            "[45/100][0/1747]\tmse_loss: 0.01894\n",
            "[45/100][500/1747]\tmse_loss: 0.02133\n",
            "[45/100][1000/1747]\tmse_loss: 0.02037\n",
            "[45/100][1500/1747]\tmse_loss: 0.01323\n",
            "[46/100][0/1747]\tmse_loss: 0.01725\n",
            "[46/100][500/1747]\tmse_loss: 0.01130\n",
            "[46/100][1000/1747]\tmse_loss: 0.01232\n",
            "[46/100][1500/1747]\tmse_loss: 0.01773\n",
            "[47/100][0/1747]\tmse_loss: 0.01407\n",
            "[47/100][500/1747]\tmse_loss: 0.01942\n",
            "[47/100][1000/1747]\tmse_loss: 0.00976\n",
            "[47/100][1500/1747]\tmse_loss: 0.01477\n",
            "[48/100][0/1747]\tmse_loss: 0.01282\n",
            "[48/100][500/1747]\tmse_loss: 0.01901\n",
            "[48/100][1000/1747]\tmse_loss: 0.01148\n",
            "[48/100][1500/1747]\tmse_loss: 0.01372\n",
            "[49/100][0/1747]\tmse_loss: 0.02004\n",
            "[49/100][500/1747]\tmse_loss: 0.02018\n",
            "[49/100][1000/1747]\tmse_loss: 0.01482\n",
            "[49/100][1500/1747]\tmse_loss: 0.00331\n",
            "[50/100][0/1747]\tmse_loss: 0.01186\n",
            "[50/100][500/1747]\tmse_loss: 0.01455\n",
            "[50/100][1000/1747]\tmse_loss: 0.00403\n",
            "[50/100][1500/1747]\tmse_loss: 0.01194\n",
            "[51/100][0/1747]\tmse_loss: 0.02279\n",
            "[51/100][500/1747]\tmse_loss: 0.02768\n",
            "[51/100][1000/1747]\tmse_loss: 0.02339\n",
            "[51/100][1500/1747]\tmse_loss: 0.01299\n",
            "[52/100][0/1747]\tmse_loss: 0.02267\n",
            "[52/100][500/1747]\tmse_loss: 0.01350\n",
            "[52/100][1000/1747]\tmse_loss: 0.01660\n",
            "[52/100][1500/1747]\tmse_loss: 0.00955\n",
            "[53/100][0/1747]\tmse_loss: 0.01638\n",
            "[53/100][500/1747]\tmse_loss: 0.01590\n",
            "[53/100][1000/1747]\tmse_loss: 0.01562\n",
            "[53/100][1500/1747]\tmse_loss: 0.01403\n",
            "[54/100][0/1747]\tmse_loss: 0.01151\n",
            "[54/100][500/1747]\tmse_loss: 0.00878\n",
            "[54/100][1000/1747]\tmse_loss: 0.01081\n",
            "[54/100][1500/1747]\tmse_loss: 0.01050\n",
            "[55/100][0/1747]\tmse_loss: 0.01459\n",
            "[55/100][500/1747]\tmse_loss: 0.01815\n",
            "[55/100][1000/1747]\tmse_loss: 0.01168\n",
            "[55/100][1500/1747]\tmse_loss: 0.02312\n",
            "[56/100][0/1747]\tmse_loss: 0.02923\n",
            "[56/100][500/1747]\tmse_loss: 0.02754\n",
            "[56/100][1000/1747]\tmse_loss: 0.01565\n",
            "[56/100][1500/1747]\tmse_loss: 0.01186\n",
            "[57/100][0/1747]\tmse_loss: 0.01472\n",
            "[57/100][500/1747]\tmse_loss: 0.02342\n",
            "[57/100][1000/1747]\tmse_loss: 0.01544\n",
            "[57/100][1500/1747]\tmse_loss: 0.02190\n",
            "[58/100][0/1747]\tmse_loss: 0.01077\n",
            "[58/100][500/1747]\tmse_loss: 0.01699\n",
            "[58/100][1000/1747]\tmse_loss: 0.00974\n",
            "[58/100][1500/1747]\tmse_loss: 0.02353\n",
            "[59/100][0/1747]\tmse_loss: 0.00895\n",
            "[59/100][500/1747]\tmse_loss: 0.01457\n",
            "[59/100][1000/1747]\tmse_loss: 0.01390\n",
            "[59/100][1500/1747]\tmse_loss: 0.01538\n",
            "[60/100][0/1747]\tmse_loss: 0.01413\n",
            "[60/100][500/1747]\tmse_loss: 0.02353\n",
            "[60/100][1000/1747]\tmse_loss: 0.01087\n",
            "[60/100][1500/1747]\tmse_loss: 0.01812\n",
            "[61/100][0/1747]\tmse_loss: 0.01889\n",
            "[61/100][500/1747]\tmse_loss: 0.01121\n",
            "[61/100][1000/1747]\tmse_loss: 0.01443\n",
            "[61/100][1500/1747]\tmse_loss: 0.01600\n",
            "[62/100][0/1747]\tmse_loss: 0.00807\n",
            "[62/100][500/1747]\tmse_loss: 0.02627\n",
            "[62/100][1000/1747]\tmse_loss: 0.01597\n",
            "[62/100][1500/1747]\tmse_loss: 0.01215\n",
            "[63/100][0/1747]\tmse_loss: 0.01193\n",
            "[63/100][500/1747]\tmse_loss: 0.00732\n",
            "[63/100][1000/1747]\tmse_loss: 0.00965\n",
            "[63/100][1500/1747]\tmse_loss: 0.01199\n",
            "[64/100][0/1747]\tmse_loss: 0.01201\n",
            "[64/100][500/1747]\tmse_loss: 0.00881\n",
            "[64/100][1000/1747]\tmse_loss: 0.00948\n",
            "[64/100][1500/1747]\tmse_loss: 0.01228\n",
            "[65/100][0/1747]\tmse_loss: 0.00597\n",
            "[65/100][500/1747]\tmse_loss: 0.01286\n",
            "[65/100][1000/1747]\tmse_loss: 0.01648\n",
            "[65/100][1500/1747]\tmse_loss: 0.01107\n",
            "[66/100][0/1747]\tmse_loss: 0.00575\n",
            "[66/100][500/1747]\tmse_loss: 0.01775\n",
            "[66/100][1000/1747]\tmse_loss: 0.00587\n",
            "[66/100][1500/1747]\tmse_loss: 0.01016\n",
            "[67/100][0/1747]\tmse_loss: 0.01819\n",
            "[67/100][500/1747]\tmse_loss: 0.01273\n",
            "[67/100][1000/1747]\tmse_loss: 0.01794\n",
            "[67/100][1500/1747]\tmse_loss: 0.01206\n",
            "[68/100][0/1747]\tmse_loss: 0.02597\n",
            "[68/100][500/1747]\tmse_loss: 0.01707\n",
            "[68/100][1000/1747]\tmse_loss: 0.01416\n",
            "[68/100][1500/1747]\tmse_loss: 0.01057\n",
            "[69/100][0/1747]\tmse_loss: 0.01883\n",
            "[69/100][500/1747]\tmse_loss: 0.00884\n",
            "[69/100][1000/1747]\tmse_loss: 0.01879\n",
            "[69/100][1500/1747]\tmse_loss: 0.02120\n",
            "[70/100][0/1747]\tmse_loss: 0.01436\n",
            "[70/100][500/1747]\tmse_loss: 0.01628\n",
            "[70/100][1000/1747]\tmse_loss: 0.01189\n",
            "[70/100][1500/1747]\tmse_loss: 0.01926\n",
            "[71/100][0/1747]\tmse_loss: 0.01292\n",
            "[71/100][500/1747]\tmse_loss: 0.00441\n",
            "[71/100][1000/1747]\tmse_loss: 0.01700\n",
            "[71/100][1500/1747]\tmse_loss: 0.01011\n",
            "[72/100][0/1747]\tmse_loss: 0.00721\n",
            "[72/100][500/1747]\tmse_loss: 0.00707\n",
            "[72/100][1000/1747]\tmse_loss: 0.01030\n",
            "[72/100][1500/1747]\tmse_loss: 0.01406\n",
            "[73/100][0/1747]\tmse_loss: 0.02846\n",
            "[73/100][500/1747]\tmse_loss: 0.02140\n",
            "[73/100][1000/1747]\tmse_loss: 0.01408\n",
            "[73/100][1500/1747]\tmse_loss: 0.01127\n",
            "[74/100][0/1747]\tmse_loss: 0.01661\n",
            "[74/100][500/1747]\tmse_loss: 0.00507\n",
            "[74/100][1000/1747]\tmse_loss: 0.01237\n",
            "[74/100][1500/1747]\tmse_loss: 0.01275\n",
            "[75/100][0/1747]\tmse_loss: 0.01139\n",
            "[75/100][500/1747]\tmse_loss: 0.00785\n",
            "[75/100][1000/1747]\tmse_loss: 0.01365\n",
            "[75/100][1500/1747]\tmse_loss: 0.01297\n",
            "[76/100][0/1747]\tmse_loss: 0.00886\n",
            "[76/100][500/1747]\tmse_loss: 0.01067\n",
            "[76/100][1000/1747]\tmse_loss: 0.02444\n",
            "[76/100][1500/1747]\tmse_loss: 0.01458\n",
            "[77/100][0/1747]\tmse_loss: 0.01502\n",
            "[77/100][500/1747]\tmse_loss: 0.02046\n",
            "[77/100][1000/1747]\tmse_loss: 0.01998\n",
            "[77/100][1500/1747]\tmse_loss: 0.00667\n",
            "[78/100][0/1747]\tmse_loss: 0.01319\n",
            "[78/100][500/1747]\tmse_loss: 0.00851\n",
            "[78/100][1000/1747]\tmse_loss: 0.01209\n",
            "[78/100][1500/1747]\tmse_loss: 0.03706\n",
            "[79/100][0/1747]\tmse_loss: 0.01828\n",
            "[79/100][500/1747]\tmse_loss: 0.00828\n",
            "[79/100][1000/1747]\tmse_loss: 0.01420\n",
            "[79/100][1500/1747]\tmse_loss: 0.01302\n",
            "[80/100][0/1747]\tmse_loss: 0.00669\n",
            "[80/100][500/1747]\tmse_loss: 0.01499\n",
            "[80/100][1000/1747]\tmse_loss: 0.00834\n",
            "[80/100][1500/1747]\tmse_loss: 0.00724\n",
            "[81/100][0/1747]\tmse_loss: 0.01127\n",
            "[81/100][500/1747]\tmse_loss: 0.00823\n",
            "[81/100][1000/1747]\tmse_loss: 0.01718\n",
            "[81/100][1500/1747]\tmse_loss: 0.01488\n",
            "[82/100][0/1747]\tmse_loss: 0.01339\n",
            "[82/100][500/1747]\tmse_loss: 0.01857\n",
            "[82/100][1000/1747]\tmse_loss: 0.01559\n",
            "[82/100][1500/1747]\tmse_loss: 0.02334\n",
            "[83/100][0/1747]\tmse_loss: 0.00733\n",
            "[83/100][500/1747]\tmse_loss: 0.01441\n",
            "[83/100][1000/1747]\tmse_loss: 0.01616\n",
            "[83/100][1500/1747]\tmse_loss: 0.01325\n",
            "[84/100][0/1747]\tmse_loss: 0.01027\n",
            "[84/100][500/1747]\tmse_loss: 0.01489\n",
            "[84/100][1000/1747]\tmse_loss: 0.01307\n",
            "[84/100][1500/1747]\tmse_loss: 0.00861\n",
            "[85/100][0/1747]\tmse_loss: 0.00877\n",
            "[85/100][500/1747]\tmse_loss: 0.01475\n",
            "[85/100][1000/1747]\tmse_loss: 0.01584\n",
            "[85/100][1500/1747]\tmse_loss: 0.01695\n",
            "[86/100][0/1747]\tmse_loss: 0.00950\n",
            "[86/100][500/1747]\tmse_loss: 0.01808\n",
            "[86/100][1000/1747]\tmse_loss: 0.02962\n",
            "[86/100][1500/1747]\tmse_loss: 0.01428\n",
            "[87/100][0/1747]\tmse_loss: 0.01101\n",
            "[87/100][500/1747]\tmse_loss: 0.01105\n",
            "[87/100][1000/1747]\tmse_loss: 0.01048\n",
            "[87/100][1500/1747]\tmse_loss: 0.01696\n",
            "[88/100][0/1747]\tmse_loss: 0.01296\n",
            "[88/100][500/1747]\tmse_loss: 0.01257\n",
            "[88/100][1000/1747]\tmse_loss: 0.01472\n",
            "[88/100][1500/1747]\tmse_loss: 0.01346\n",
            "[89/100][0/1747]\tmse_loss: 0.01067\n",
            "[89/100][500/1747]\tmse_loss: 0.01262\n",
            "[89/100][1000/1747]\tmse_loss: 0.01360\n",
            "[89/100][1500/1747]\tmse_loss: 0.01757\n",
            "[90/100][0/1747]\tmse_loss: 0.01554\n",
            "[90/100][500/1747]\tmse_loss: 0.01182\n",
            "[90/100][1000/1747]\tmse_loss: 0.01896\n",
            "[90/100][1500/1747]\tmse_loss: 0.01197\n",
            "[91/100][0/1747]\tmse_loss: 0.01057\n",
            "[91/100][500/1747]\tmse_loss: 0.01467\n",
            "[91/100][1000/1747]\tmse_loss: 0.01062\n",
            "[91/100][1500/1747]\tmse_loss: 0.01439\n",
            "[92/100][0/1747]\tmse_loss: 0.02050\n",
            "[92/100][500/1747]\tmse_loss: 0.01633\n",
            "[92/100][1000/1747]\tmse_loss: 0.00992\n",
            "[92/100][1500/1747]\tmse_loss: 0.01077\n",
            "[93/100][0/1747]\tmse_loss: 0.00901\n",
            "[93/100][500/1747]\tmse_loss: 0.01730\n",
            "[93/100][1000/1747]\tmse_loss: 0.01125\n",
            "[93/100][1500/1747]\tmse_loss: 0.01259\n",
            "[94/100][0/1747]\tmse_loss: 0.01453\n",
            "[94/100][500/1747]\tmse_loss: 0.01751\n",
            "[94/100][1000/1747]\tmse_loss: 0.01082\n",
            "[94/100][1500/1747]\tmse_loss: 0.00676\n",
            "[95/100][0/1747]\tmse_loss: 0.01477\n",
            "[95/100][500/1747]\tmse_loss: 0.01038\n",
            "[95/100][1000/1747]\tmse_loss: 0.01779\n",
            "[95/100][1500/1747]\tmse_loss: 0.01833\n",
            "[96/100][0/1747]\tmse_loss: 0.01073\n",
            "[96/100][500/1747]\tmse_loss: 0.01223\n",
            "[96/100][1000/1747]\tmse_loss: 0.01325\n",
            "[96/100][1500/1747]\tmse_loss: 0.01017\n",
            "[97/100][0/1747]\tmse_loss: 0.01130\n",
            "[97/100][500/1747]\tmse_loss: 0.01430\n",
            "[97/100][1000/1747]\tmse_loss: 0.01170\n",
            "[97/100][1500/1747]\tmse_loss: 0.02107\n",
            "[98/100][0/1747]\tmse_loss: 0.01245\n",
            "[98/100][500/1747]\tmse_loss: 0.02034\n",
            "[98/100][1000/1747]\tmse_loss: 0.02138\n",
            "[98/100][1500/1747]\tmse_loss: 0.00734\n",
            "[99/100][0/1747]\tmse_loss: 0.01214\n",
            "[99/100][500/1747]\tmse_loss: 0.00746\n",
            "[99/100][1000/1747]\tmse_loss: 0.01148\n",
            "[99/100][1500/1747]\tmse_loss: 0.01742\n",
            "[100/100][0/1747]\tmse_loss: 0.01930\n",
            "[100/100][500/1747]\tmse_loss: 0.01372\n",
            "[100/100][1000/1747]\tmse_loss: 0.01075\n",
            "[100/100][1500/1747]\tmse_loss: 0.01078\n"
          ],
          "name": "stdout"
        }
      ]
    },
    {
      "cell_type": "markdown",
      "metadata": {
        "id": "gQSr5DuyMAfO",
        "colab_type": "text"
      },
      "source": [
        "Plot for training/reconstruction loss:"
      ]
    },
    {
      "cell_type": "code",
      "metadata": {
        "id": "Rdwd3FkdtVPJ",
        "colab_type": "code",
        "outputId": "a036a811-2387-4654-9233-e7d6e4df147b",
        "colab": {
          "base_uri": "https://localhost:8080/",
          "height": 296
        }
      },
      "source": [
        "plt.xlabel('Epoch')\n",
        "plt.ylabel('Average MSE Loss per epoch')\n",
        "plt.plot(losses)"
      ],
      "execution_count": 14,
      "outputs": [
        {
          "output_type": "execute_result",
          "data": {
            "text/plain": [
              "[<matplotlib.lines.Line2D at 0x7f2c8068afd0>]"
            ]
          },
          "metadata": {
            "tags": []
          },
          "execution_count": 14
        },
        {
          "output_type": "display_data",
          "data": {
            "image/png": "[encoded data removed]",
            "text/plain": [
              "<Figure size 432x288 with 1 Axes>"
            ]
          },
          "metadata": {
            "tags": []
          }
        }
      ]
    },
    {
      "cell_type": "markdown",
      "metadata": {
        "id": "A8zsdDSiMMah",
        "colab_type": "text"
      },
      "source": [
        "Finding and plotting Mean Squared Error Losses on our Test Data:"
      ]
    },
    {
      "cell_type": "code",
      "metadata": {
        "id": "vaM9ed4i3KsJ",
        "colab_type": "code",
        "colab": {}
      },
      "source": [
        "test_mse_losses=[]\n",
        "for data in testloader:\n",
        "  x,target=data\n",
        "  x=x.to(device)\n",
        "  x=x.float()\n",
        "  target=target.to(device)\n",
        "  target=target.float()\n",
        "  recon=model(x)\n",
        "  loss=loss_fn(recon,target)\n",
        "  test_mse_losses.append(loss.item()/batch_size)"
      ],
      "execution_count": 0,
      "outputs": []
    },
    {
      "cell_type": "code",
      "metadata": {
        "id": "QtL7O4NWsYv5",
        "colab_type": "code",
        "outputId": "1c4db6b6-8cce-4e46-eab6-b6141441533a",
        "colab": {
          "base_uri": "https://localhost:8080/",
          "height": 296
        }
      },
      "source": [
        "plt.xlabel('Batch number')\n",
        "plt.ylabel('Average MSE Loss per batch')\n",
        "plt.plot(test_mse_losses)"
      ],
      "execution_count": 17,
      "outputs": [
        {
          "output_type": "execute_result",
          "data": {
            "text/plain": [
              "[<matplotlib.lines.Line2D at 0x7f2c808d6fd0>]"
            ]
          },
          "metadata": {
            "tags": []
          },
          "execution_count": 17
        },
        {
          "output_type": "display_data",
          "data": {
            "image/png": "[encoded data removed]",
            "text/plain": [
              "<Figure size 432x288 with 1 Axes>"
            ]
          },
          "metadata": {
            "tags": []
          }
        }
      ]
    },
    {
      "cell_type": "markdown",
      "metadata": {
        "id": "Kisxr0E3Msc1",
        "colab_type": "text"
      },
      "source": [
        "# Evaluation and Analysis"
      ]
    },
    {
      "cell_type": "code",
      "metadata": {
        "id": "uUMXOPH399jw",
        "colab_type": "code",
        "colab": {}
      },
      "source": [
        "model.eval() #Set model to test mode\n",
        "model.to('cpu')\n",
        "average=train.mean(axis=0)\n",
        "deviation=train.std(axis=0)\n",
        "\n",
        "data=torch.tensor(test.values) \n",
        "recon=model(data.float()).detach().numpy() #Get predictions\n",
        "\n",
        "\n",
        "data=np.multiply(data,deviation.values) #\"Un-standardize\" the data\n",
        "data=np.add(data,average.values)\n",
        "\n",
        "\n",
        "recon=np.multiply(recon,deviation.values) #\"Un-standardize\" the predictions\n",
        "recon=np.add(recon,average.values)"
      ],
      "execution_count": 0,
      "outputs": []
    },
    {
      "cell_type": "markdown",
      "metadata": {
        "id": "5R6OaN_fNVo1",
        "colab_type": "text"
      },
      "source": [
        "Plotting correlations between the original and reconstructed distributions:"
      ]
    },
    {
      "cell_type": "code",
      "metadata": {
        "id": "Mg-SljLEBrRp",
        "colab_type": "code",
        "outputId": "9f2b42d5-f1e8-4163-aee2-f5a08bc87a72",
        "colab": {
          "base_uri": "https://localhost:8080/",
          "height": 1000
        }
      },
      "source": [
        "# Close previous Plots\n",
        "plt.close('all')\n",
        "\n",
        "# Define data variables\n",
        "variable_list = [r'$p_T$', r'$\\eta$', r'$\\phi$', r'$E$']\n",
        "\n",
        "# Define data variable units\n",
        "unit_list = ['[GeV]', '[rad]', '[rad]', '[GeV]']\n",
        "\n",
        "# Other graph params\n",
        "line_style = ['--', '-']\n",
        "colors = ['orange', 'c']\n",
        "markers = ['*', 's']\n",
        "alph = 0.8\n",
        "n_bins = 50\n",
        "\n",
        "for idx in np.arange(4):\n",
        "    fig_name = \"Input-Output distribution \" + train.columns[idx]\n",
        "    plt.figure(figsize=[20,5])\n",
        "    \n",
        "    # Plot input histogram\n",
        "    n_hist_data, bin_edges, _ = plt.hist(data[:,idx], color=colors[1], label='Input', alpha=1, bins=n_bins)\n",
        "    \n",
        "    # Plot output histogram\n",
        "    n_hist_pred, _, _ = plt.hist(recon[:,idx], color=colors[0], label='Output', alpha=alph, bins=bin_edges)\n",
        "    \n",
        "    # Set misc. graph setings\n",
        "    plt.title(fig_name)                                    # Set title\n",
        "    plt.xlabel(variable_list[idx] + ' ' + unit_list[idx])  # Set label for x-axis\n",
        "    plt.ylabel('Number of events')                         # Set label for y-asix\n",
        "    plt.grid(axis='x')                                     # Set grid\n",
        "    plt.legend()                                           # Set legend\n",
        "    \n",
        "    # Save figures\n",
        "    #plt.savefig(\"graphs/Input-Output_distribution_\" + train.columns[idx] + \".png\", dpi=200)\n",
        "    \n",
        "    # Show figures\n",
        "    plt.show()"
      ],
      "execution_count": 19,
      "outputs": [
        {
          "output_type": "display_data",
          "data": {
            "image/png": "[encoded data removed]",
            "text/plain": [
              "<Figure size 1440x360 with 1 Axes>"
            ]
          },
          "metadata": {
            "tags": []
          }
        },
        {
          "output_type": "display_data",
          "data": {
            "image/png": "[encoded data removed]",
            "text/plain": [
              "<Figure size 1440x360 with 1 Axes>"
            ]
          },
          "metadata": {
            "tags": []
          }
        },
        {
          "output_type": "display_data",
          "data": {
            "image/png": "[encoded data removed]",
            "text/plain": [
              "<Figure size 1440x360 with 1 Axes>"
            ]
          },
          "metadata": {
            "tags": []
          }
        },
        {
          "output_type": "display_data",
          "data": {
            "image/png": "[encoded data removed]",
            "text/plain": [
              "<Figure size 1440x360 with 1 Axes>"
            ]
          },
          "metadata": {
            "tags": []
          }
        }
      ]
    },
    {
      "cell_type": "markdown",
      "metadata": {
        "id": "nDK2cMxtNS59",
        "colab_type": "text"
      },
      "source": [
        "Plotting residuals:"
      ]
    },
    {
      "cell_type": "code",
      "metadata": {
        "id": "Om3F3uCmJt_H",
        "colab_type": "code",
        "outputId": "4a6d2bc4-c042-4bf4-e32e-7d4035336aea",
        "colab": {
          "base_uri": "https://localhost:8080/",
          "height": 1000
        }
      },
      "source": [
        "def std_error(x, axis=None, ddof=0):\n",
        "    return np.nanstd(x, axis=axis, ddof=ddof) / np.sqrt(2 * len(x))\n",
        "\n",
        "from scipy import stats\n",
        "\n",
        "# Labels for x-axes\n",
        "residual_strings = [\n",
        "                r'$(p_{T,out} - p_{T,in}) / p_{T,in}$',\n",
        "                r'$(\\eta_{out} - \\eta_{in}) / \\eta_{in}$',\n",
        "                r'$(\\phi_{out} - \\phi_{in}) / \\phi_{in}$',\n",
        "                r'$(E_{out} - E_{in}) / E_{in}$'\n",
        "            ]\n",
        "\n",
        "# Calculate residuals\n",
        "residuals = (recon - data.detach().numpy()) / data.detach().numpy()\n",
        "resRange = (-.02, .02)\n",
        "\n",
        "for idx in np.arange(4):\n",
        "    plt.figure(figsize=[15,5])\n",
        "    \n",
        "    # Plot residual histograms.\n",
        "    n_hist_pred, bin_edges, _ = plt.hist(\n",
        "        residuals[:, idx], \n",
        "        label='Residuals', \n",
        "        linestyle=line_style[0], \n",
        "        alpha=alph, \n",
        "        bins=100, \n",
        "        range=resRange\n",
        "    )\n",
        "    \n",
        "    # Set misc. graph setings\n",
        "    fig_name = 'Residuals for ' + train.columns[idx]\n",
        "    plt.title(fig_name)\n",
        "    plt.xlabel(residual_strings[idx]) \n",
        "    plt.ylabel('Number of jets')\n",
        "    plt.grid(axis='x')\n",
        "\n",
        "    # Calculate residual statistics for text box\n",
        "    std = np.std(residuals[:, idx])                       # Get standard-dev\n",
        "    std_err = std_error(residuals[:, idx])          # Get standard error in standard-dev\n",
        "    mean = np.nanmean(residuals[:, idx])                  # Get mean\n",
        "    sem = stats.sem(residuals[:, idx], nan_policy='omit') # Get standard error of mean\n",
        "    ax = plt.gca()\n",
        "    \n",
        "    # Add text box with stats\n",
        "    plt.text(\n",
        "        .85, .9, \n",
        "        'Mean = %f$\\pm$%f\\n$\\sigma$ = %f$\\pm$%f' % (mean, sem, std, std_err), \n",
        "        bbox={'facecolor': 'white', 'alpha': 0.7, 'pad': 10},\n",
        "        horizontalalignment='center', \n",
        "        verticalalignment='center', \n",
        "        transform=ax.transAxes, \n",
        "        fontsize=10\n",
        "    )\n",
        "    \n",
        "    # Save Graph\n",
        "    #plt.savefig(\"graphs/Residuals_\" + train_x.columns[idx] + \".png\", dpi=200)\n",
        "\n",
        "    # Show Graph\n",
        "    plt.show()"
      ],
      "execution_count": 20,
      "outputs": [
        {
          "output_type": "display_data",
          "data": {
            "image/png": "[encoded data removed]",
            "text/plain": [
              "<Figure size 1080x360 with 1 Axes>"
            ]
          },
          "metadata": {
            "tags": []
          }
        },
        {
          "output_type": "display_data",
          "data": {
            "image/png": "[encoded data removed]",
            "text/plain": [
              "<Figure size 1080x360 with 1 Axes>"
            ]
          },
          "metadata": {
            "tags": []
          }
        },
        {
          "output_type": "display_data",
          "data": {
            "image/png": "[encoded data removed]",
            "text/plain": [
              "<Figure size 1080x360 with 1 Axes>"
            ]
          },
          "metadata": {
            "tags": []
          }
        },
        {
          "output_type": "display_data",
          "data": {
            "image/png": "[encoded data removed]",
            "text/plain": [
              "<Figure size 1080x360 with 1 Axes>"
            ]
          },
          "metadata": {
            "tags": []
          }
        }
      ]
    },
    {
      "cell_type": "markdown",
      "metadata": {
        "id": "0UHjDLOsa3kd",
        "colab_type": "text"
      },
      "source": [
        "# Observations:\n",
        "\n",
        "\n",
        "\n",
        "*   Since the model generalises well to the test set, we can conclude that the distribution of the train and test set are quite similar.\n",
        "*   The model finds it hard to match the distribution at edge values, particularly for Number of Jets versus Phi.\n",
        "*   Enaling batch norm makes training a bit more stable, and reduces the average test MSE loss, but causes a more significant distribution mismatch at the edge values.\n",
        "*   The residuals are mostly centred around zero, also pointing towards the performance of the model with respect to the reconstruction loss.\n",
        "*   The plot for test MSE loss is quite noisy but with a low average value, indicating that the model does well on most samples, but is off the mark for a few outliers.\n"
      ]
    }
  ]
}